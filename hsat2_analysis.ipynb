{
 "cells": [
  {
   "cell_type": "markdown",
   "id": "93c7d9d6",
   "metadata": {},
   "source": [
    "### Plan of the analysis\n",
    "1. Map transcript sequence with BLAST\n",
    "2. Conver to BED format to visualise in UCSC Genome Browser\n",
    "3. For each hit define cytological band and censat annotation ID of sattelite"
   ]
  },
  {
   "cell_type": "code",
   "execution_count": 42,
   "id": "60c5c924",
   "metadata": {},
   "outputs": [],
   "source": [
    "import os\n",
    "from collections import defaultdict\n",
    "\n",
    "## input_files\n",
    "\n",
    "transcript = \"./transcript_4_1.fasta\"\n",
    "human_t2t_genome = \"./human_t2t_genome/GCF_009914755.1_T2T-CHM13v2.0_genomic.fna\"\n",
    "\n",
    "## output files \n",
    "output_folder = \"./result\"\n",
    "blast_result = \"./result/trascript_to_t2t.outfmt6\"\n",
    "blast_result_bed = f\"{blast_result}.bed\"\n",
    "blast_results_with_annotation = \"./result/transcript_to_t2t_with_censat_and_locus.tsv\"\n",
    "blast_results_with_annotation_summary = \"./result/transcript_to_t2t_with_censat_and_locus_summary.tsv\""
   ]
  },
  {
   "cell_type": "code",
   "execution_count": 18,
   "id": "dfa97f46",
   "metadata": {},
   "outputs": [],
   "source": [
    "## Download human T2T genome\n",
    "\n",
    "if not os.path.exists(\"./human_t2t_genome\"):\n",
    "    os.makedirs(\"./human_t2t_genome\")\n",
    "\n",
    "if not os.path.exists(human_t2t_genome):\n",
    "    os.system(f\"wget https://ftp.ncbi.nlm.nih.gov/genomes/all/GCF/009/914/755/GCF_009914755.1_T2T-CHM13v2.0/GCF_009914755.1_T2T-CHM13v2.0_genomic.fna.gz -O {human_t2t_genome}\")\n",
    "    os.system(f\"gunzip ./human_t2t_genome/GCF_009914755.1_T2T-CHM13v2.0_genomic.fna.gz\")\n",
    "    print('Download of the genome done!')"
   ]
  },
  {
   "cell_type": "code",
   "execution_count": 20,
   "id": "64ba23ab",
   "metadata": {},
   "outputs": [],
   "source": [
    "## Create index of T2T assembly \n",
    "\n",
    "if not os.path.exists(human_t2t_genome + \".ndb\"):\n",
    "    os.system(f'makeblastdb -dbtype nucl -in {human_t2t_genome}')"
   ]
  },
  {
   "cell_type": "code",
   "execution_count": 21,
   "id": "29b966e9",
   "metadata": {},
   "outputs": [],
   "source": [
    "## Map transcript to T2T assembly\n",
    "\n",
    "if not os.path.exists(output_folder):\n",
    "    os.makedirs(output_folder)\n",
    "\n",
    "if not os.path.exists(blast_result):\n",
    "    os.system(f\"blastn -db {human_t2t_genome} -query {transcript} -outfmt 6 -out {blast_result} -task blastn -perc_identity 80\")"
   ]
  },
  {
   "cell_type": "code",
   "execution_count": 24,
   "id": "fed76034",
   "metadata": {},
   "outputs": [],
   "source": [
    "## Convert outfmt6 to BED\n",
    "\n",
    "if not os.path.exists(\"./blast2bed\"):\n",
    "    os.system(\"git clone git@github.com:nterhoeven/blast2bed.git\")\n",
    "\n",
    "if not os.path.exists(blast_result_bed):\n",
    "    os.system(f\"./blast2bed/blast2bed {blast_result}\")"
   ]
  },
  {
   "cell_type": "code",
   "execution_count": 39,
   "id": "4bb00c0f",
   "metadata": {},
   "outputs": [],
   "source": [
    "## Functions to work with TSV tables\n",
    "\n",
    "def read_tsv_to_list(tsv):\n",
    "    result = []\n",
    "    with open(tsv) as fh:\n",
    "        for line in fh:\n",
    "            if line.startswith(\"#\"):\n",
    "                continue\n",
    "            line = line.strip().split(\"\\t\")\n",
    "            result.append(line)\n",
    "    return result\n",
    "\n",
    "def read_tsv_to_dict(tsv, key_index):\n",
    "    result = {}\n",
    "    with open(tsv) as fh:\n",
    "        for line in fh:\n",
    "            if line.startswith(\"#\"):\n",
    "                continue\n",
    "            line = line.strip().split(\"\\t\")\n",
    "            result[line[key_index]] = line\n",
    "    return result"
   ]
  },
  {
   "cell_type": "code",
   "execution_count": 28,
   "id": "c303a832",
   "metadata": {},
   "outputs": [],
   "source": [
    "## Parse annotations\n",
    "\n",
    "sat_t2t_coordinates = \"./ucsc_data/censat.bed\"\n",
    "locus_t2t_coodinates = \"./ucsc_data/cytoBandMapped.bed\"\n",
    "chr_alias = \"./ucsc_data/chr_alias.txt\"\n",
    "\n",
    "\n",
    "sat_t2t = read_tsv_to_list(sat_t2t_coordinates)\n",
    "locus_t2t = read_tsv_to_list(locus_t2t_coodinates)\n",
    "alias_refseq = read_tsv_to_dict(chr_alias, 2)"
   ]
  },
  {
   "cell_type": "code",
   "execution_count": 29,
   "id": "a8937c51",
   "metadata": {},
   "outputs": [],
   "source": [
    "blast_run_t41_bed = read_tsv_to_list(blast_result_bed)"
   ]
  },
  {
   "cell_type": "code",
   "execution_count": 30,
   "id": "7442b704",
   "metadata": {},
   "outputs": [],
   "source": [
    "## Add censat ID and locus to each blast hit\n",
    "\n",
    "blast_with_censat_locus = []\n",
    "for match in blast_run_t41_bed[1:]:\n",
    "    new_match = match\n",
    "    new_match.append(\"\")\n",
    "    new_match.append(\"\")\n",
    "    refseq_chr = match[0]\n",
    "    new_match[0] = alias_refseq[refseq_chr][0]\n",
    "    match_chrom = new_match[0]\n",
    "    start = int(match[1])\n",
    "    stop = int(match[2])\n",
    "    for sat in sat_t2t:\n",
    "        sat_chrom = sat[0]\n",
    "        sat_start = int(sat[1])\n",
    "        sat_stop = int(sat[2])\n",
    "        if sat_chrom == match_chrom:\n",
    "            if (start >= sat_start and start <= sat_stop) and (stop <= sat_stop and stop >= sat_start):\n",
    "                match[-2] = sat[3]\n",
    "    for locus in locus_t2t:\n",
    "        locus_chrom = locus[0]\n",
    "        locus_start = int(locus[1])\n",
    "        locus_stop = int(locus[2])\n",
    "        if locus_chrom == match_chrom:\n",
    "            if (start >= locus_start and start <= locus_stop) and (stop <= locus_stop and stop >= locus_start):\n",
    "                match[-1] = locus[3]\n",
    "    blast_with_censat_locus.append(match)"
   ]
  },
  {
   "cell_type": "code",
   "execution_count": 43,
   "id": "512c5b43",
   "metadata": {},
   "outputs": [],
   "source": [
    "## Write annotated hits table\n",
    "\n",
    "with open(blast_results_with_annotation, \"w\") as fw:\n",
    "    fw.write('Chromosome\tStart\tStop\tTarget\tStrand\tSattelite\tLocus\\n')\n",
    "    for line in blast_with_censat_locus:\n",
    "        line_to_write = \"\\t\".join(line) + \"\\n\"\n",
    "        fw.write(line_to_write)"
   ]
  },
  {
   "cell_type": "code",
   "execution_count": 33,
   "id": "93ecfdf8",
   "metadata": {},
   "outputs": [],
   "source": [
    "## Sreate summary for each chromosome\n",
    "\n",
    "summary_by_chr_blast = defaultdict(list)\n",
    "for i in blast_with_censat_locus:\n",
    "    chrom = i[0]\n",
    "    sat = i[-2]\n",
    "    locus = i[-1]\n",
    "    if len(summary_by_chr_blast[chrom]) != 2:\n",
    "        summary_by_chr_blast[chrom].append({})\n",
    "        summary_by_chr_blast[chrom].append([])\n",
    "    if not sat in summary_by_chr_blast[chrom][0].keys():\n",
    "        if sat:\n",
    "            summary_by_chr_blast[chrom][0][sat] = [0, locus]\n",
    "    else:\n",
    "        summary_by_chr_blast[chrom][0][sat][0] += 1"
   ]
  },
  {
   "cell_type": "code",
   "execution_count": 46,
   "id": "b881e60e",
   "metadata": {},
   "outputs": [],
   "source": [
    "with open(blast_results_with_annotation_summary, \"w\") as fw:\n",
    "    fw.write('Chromosome\tSattelite\tN_hits\tLocus\\n')\n",
    "    for chrom, summary in summary_by_chr_blast.items():\n",
    "        for sat, info in summary[0].items():\n",
    "            number = info[0]\n",
    "            locus = info[1]\n",
    "            line_to_write = \"\\t\".join([chrom, sat, str(number), locus+\"\\n\"])\n",
    "            fw.write(line_to_write)"
   ]
  }
 ],
 "metadata": {
  "kernelspec": {
   "display_name": "Python 3",
   "language": "python",
   "name": "python3"
  },
  "language_info": {
   "codemirror_mode": {
    "name": "ipython",
    "version": 3
   },
   "file_extension": ".py",
   "mimetype": "text/x-python",
   "name": "python",
   "nbconvert_exporter": "python",
   "pygments_lexer": "ipython3",
   "version": "3.7.9"
  }
 },
 "nbformat": 4,
 "nbformat_minor": 5
}
