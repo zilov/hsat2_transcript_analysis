{
 "cells": [
  {
   "cell_type": "code",
   "execution_count": 3,
   "id": "07e82a2b",
   "metadata": {},
   "outputs": [],
   "source": [
    "import os\n",
    "from collections import defaultdict"
   ]
  },
  {
   "cell_type": "code",
   "execution_count": 5,
   "id": "8cb48d0d",
   "metadata": {},
   "outputs": [],
   "source": [
    "refseq_to_chm_number = {}\n",
    "\n",
    "with open(\"../../chm_to_acc_numbers.tsv\") as fh:\n",
    "    for line in fh:\n",
    "        if line.startswith('#'):\n",
    "            continue\n",
    "        line = line.strip().split(\"\\t\")\n",
    "        refseq_to_chm_number[line[6]] = line[0]"
   ]
  },
  {
   "cell_type": "code",
   "execution_count": 6,
   "id": "5c95a680",
   "metadata": {},
   "outputs": [],
   "source": [
    "#transcript\n",
    "\n",
    "uniqs = defaultdict(list)\n",
    "uniqs_info = defaultdict(list)\n",
    "\n",
    "## m8 == outftmt6 \n",
    "## query_seq_id => target_seq_id => chm_number => identity => length => mismatch => gaps => \n",
    "## ==> start_query => stop_query => start_target => stop_target => e_value => bit-score\n",
    "with open(\"../mmseq_search_results/result_t2t_transcript.m8\") as fh:\n",
    "    for line in fh:\n",
    "        line = line.strip().split(\"\\t\")\n",
    "        if line[1] not in uniqs[line[0]]:\n",
    "            uniqs[line[0]].append(line[1])\n",
    "            line = line[:2] + [refseq_to_chm_number[line[1]]] + line[2:]\n",
    "            uniqs_info[line[0]].append(line)"
   ]
  },
  {
   "cell_type": "code",
   "execution_count": 7,
   "id": "0bef0b7c",
   "metadata": {},
   "outputs": [],
   "source": [
    "top_uniq_res = \"./transcripts_top_uniq_t2t.tsv\"\n",
    "\n",
    "with open(top_uniq_res, 'w') as fw:\n",
    "    fw.write('#query_seq_id\\ttarget_seq_id\\tchm_number\\tidentity\\tlength\\tmismatch\\tgaps\\tstart_query\\tstop_query\\tstart_target\\tstop_target\\te_value\\tbit-score\\n')\n",
    "    for transcript, info in uniqs_info.items():\n",
    "        for m in info:\n",
    "            to_write = \"\\t\".join(m)\n",
    "            fw.write(f'{to_write}\\n')"
   ]
  },
  {
   "cell_type": "code",
   "execution_count": 8,
   "id": "b2f22342",
   "metadata": {},
   "outputs": [
    {
     "ename": "FileNotFoundError",
     "evalue": "[Errno 2] No such file or directory: '../../modal_genomes/human_t2t_CHM13v2_0/annotation_human_t2t_ghm13v2.gff'",
     "output_type": "error",
     "traceback": [
      "\u001b[0;31m---------------------------------------------------------------------------\u001b[0m",
      "\u001b[0;31mFileNotFoundError\u001b[0m                         Traceback (most recent call last)",
      "\u001b[0;32m<ipython-input-8-7a5509e9628e>\u001b[0m in \u001b[0;36m<module>\u001b[0;34m\u001b[0m\n\u001b[1;32m      5\u001b[0m \u001b[0mgff\u001b[0m \u001b[0;34m=\u001b[0m \u001b[0mdefaultdict\u001b[0m\u001b[0;34m(\u001b[0m\u001b[0mlist\u001b[0m\u001b[0;34m)\u001b[0m\u001b[0;34m\u001b[0m\u001b[0;34m\u001b[0m\u001b[0m\n\u001b[1;32m      6\u001b[0m \u001b[0;34m\u001b[0m\u001b[0m\n\u001b[0;32m----> 7\u001b[0;31m \u001b[0;32mwith\u001b[0m \u001b[0mopen\u001b[0m\u001b[0;34m(\u001b[0m\u001b[0mannotation\u001b[0m\u001b[0;34m)\u001b[0m \u001b[0;32mas\u001b[0m \u001b[0mfh\u001b[0m\u001b[0;34m:\u001b[0m\u001b[0;34m\u001b[0m\u001b[0;34m\u001b[0m\u001b[0m\n\u001b[0m\u001b[1;32m      8\u001b[0m     \u001b[0;32mfor\u001b[0m \u001b[0mline\u001b[0m \u001b[0;32min\u001b[0m \u001b[0mfh\u001b[0m\u001b[0;34m:\u001b[0m\u001b[0;34m\u001b[0m\u001b[0;34m\u001b[0m\u001b[0m\n\u001b[1;32m      9\u001b[0m         \u001b[0;32mif\u001b[0m \u001b[0mline\u001b[0m\u001b[0;34m.\u001b[0m\u001b[0mstartswith\u001b[0m\u001b[0;34m(\u001b[0m\u001b[0;34m'#'\u001b[0m\u001b[0;34m)\u001b[0m\u001b[0;34m:\u001b[0m\u001b[0;34m\u001b[0m\u001b[0;34m\u001b[0m\u001b[0m\n",
      "\u001b[0;31mFileNotFoundError\u001b[0m: [Errno 2] No such file or directory: '../../modal_genomes/human_t2t_CHM13v2_0/annotation_human_t2t_ghm13v2.gff'"
     ]
    }
   ],
   "source": [
    "### read gff annotation\n",
    "\n",
    "annotation = '../../modal_genomes/human_t2t_CHM13v2_0/annotation_human_t2t_ghm13v2.gff'\n",
    "\n",
    "gff = defaultdict(list)\n",
    "\n",
    "with open(annotation) as fh:\n",
    "    for line in fh:\n",
    "        if line.startswith('#'):\n",
    "            continue\n",
    "        line = line.strip().split('\\t')\n",
    "        gff[line[0]].append(line)"
   ]
  },
  {
   "cell_type": "code",
   "execution_count": 15,
   "id": "daa680d3",
   "metadata": {},
   "outputs": [
    {
     "name": "stdout",
     "output_type": "stream",
     "text": [
      "['NC_060925.1', 'RefSeq', 'region', '1', '248387328', '.', '+', '.', 'ID=NC_060925.1:1..248387328;Dbxref=taxon:9606;Name=1;cell-line=CHM13htert;chromosome=1;gbkey=Src;genome=chromosome;isolate=CHM13;mol_type=genomic DNA;note=haploid cell line;sex=female;tissue-type=hydatidiform mole']\n",
      "['NC_060925.1', 'Gnomon', 'gene', '11134', '37628', '.', '-', '.', 'ID=gene-LOC105378947;Dbxref=GeneID:105378947;Name=LOC105378947;gbkey=Gene;gene=LOC105378947;gene_biotype=protein_coding']\n",
      "['NC_060925.1', 'Gnomon', 'mRNA', '11134', '37628', '.', '-', '.', 'ID=rna-XM_047443605.1;Parent=gene-LOC105378947;Dbxref=GeneID:105378947,Genbank:XM_047443605.1;Name=XM_047443605.1;experiment=COORDINATES: polyA evidence [ECO:0006239];gbkey=mRNA;gene=LOC105378947;model_evidence=Supporting evidence includes similarity to: 42 long SRA reads%2C and 90%25 coverage of the annotated genomic feature by RNAseq alignments;product=proline-rich extensin-like protein EPR1%2C transcript variant X2;transcript_id=XM_047443605.1']\n",
      "['NC_060925.1', 'Gnomon', 'exon', '37443', '37628', '.', '-', '.', 'ID=exon-XM_047443605.1-1;Parent=rna-XM_047443605.1;Dbxref=GeneID:105378947,Genbank:XM_047443605.1;experiment=COORDINATES: polyA evidence [ECO:0006239];gbkey=mRNA;gene=LOC105378947;product=proline-rich extensin-like protein EPR1%2C transcript variant X2;transcript_id=XM_047443605.1']\n",
      "['NC_060925.1', 'Gnomon', 'exon', '36086', '37081', '.', '-', '.', 'ID=exon-XM_047443605.1-2;Parent=rna-XM_047443605.1;Dbxref=GeneID:105378947,Genbank:XM_047443605.1;experiment=COORDINATES: polyA evidence [ECO:0006239];gbkey=mRNA;gene=LOC105378947;product=proline-rich extensin-like protein EPR1%2C transcript variant X2;transcript_id=XM_047443605.1']\n",
      "['NC_060925.1', 'Gnomon', 'exon', '34958', '35059', '.', '-', '.', 'ID=exon-XM_047443605.1-3;Parent=rna-XM_047443605.1;Dbxref=GeneID:105378947,Genbank:XM_047443605.1;experiment=COORDINATES: polyA evidence [ECO:0006239];gbkey=mRNA;gene=LOC105378947;product=proline-rich extensin-like protein EPR1%2C transcript variant X2;transcript_id=XM_047443605.1']\n",
      "['NC_060925.1', 'Gnomon', 'exon', '28447', '28626', '.', '-', '.', 'ID=exon-XM_047443605.1-4;Parent=rna-XM_047443605.1;Dbxref=GeneID:105378947,Genbank:XM_047443605.1;experiment=COORDINATES: polyA evidence [ECO:0006239];gbkey=mRNA;gene=LOC105378947;product=proline-rich extensin-like protein EPR1%2C transcript variant X2;transcript_id=XM_047443605.1']\n",
      "['NC_060925.1', 'Gnomon', 'exon', '13445', '13579', '.', '-', '.', 'ID=exon-XM_047443605.1-5;Parent=rna-XM_047443605.1;Dbxref=GeneID:105378947,Genbank:XM_047443605.1;experiment=COORDINATES: polyA evidence [ECO:0006239];gbkey=mRNA;gene=LOC105378947;product=proline-rich extensin-like protein EPR1%2C transcript variant X2;transcript_id=XM_047443605.1']\n",
      "['NC_060925.1', 'Gnomon', 'exon', '11134', '12982', '.', '-', '.', 'ID=exon-XM_047443605.1-6;Parent=rna-XM_047443605.1;Dbxref=GeneID:105378947,Genbank:XM_047443605.1;experiment=COORDINATES: polyA evidence [ECO:0006239];gbkey=mRNA;gene=LOC105378947;product=proline-rich extensin-like protein EPR1%2C transcript variant X2;transcript_id=XM_047443605.1']\n",
      "['NC_060925.1', 'Gnomon', 'CDS', '37443', '37628', '.', '-', '0', 'ID=cds-XP_047299561.1;Parent=rna-XM_047443605.1;Dbxref=GeneID:105378947,Genbank:XP_047299561.1;Name=XP_047299561.1;gbkey=CDS;gene=LOC105378947;product=uncharacterized protein LOC105378947 isoform X2;protein_id=XP_047299561.1']\n",
      "['NC_060925.1', 'Gnomon', 'CDS', '36086', '37081', '.', '-', '0', 'ID=cds-XP_047299561.1;Parent=rna-XM_047443605.1;Dbxref=GeneID:105378947,Genbank:XP_047299561.1;Name=XP_047299561.1;gbkey=CDS;gene=LOC105378947;product=uncharacterized protein LOC105378947 isoform X2;protein_id=XP_047299561.1']\n"
     ]
    }
   ],
   "source": [
    "p = 0\n",
    "for i, v in gff.items():\n",
    "    for k in v:\n",
    "        if p > 10:\n",
    "            break\n",
    "        print(k)\n",
    "        p+=1"
   ]
  },
  {
   "cell_type": "code",
   "execution_count": 42,
   "id": "2a8ed66b",
   "metadata": {},
   "outputs": [
    {
     "name": "stdout",
     "output_type": "stream",
     "text": [
      "annotated\n",
      "['NC_060926.1', 'Curated Genomic', 'gene', '88866370', '90790947', '.', '+', '.', 'ID=gene-IGK;Dbxref=GeneID:50802,HGNC:HGNC:5715;Name=IGK;description=immunoglobulin kappa locus;gbkey=Gene;gene=IGK;gene_biotype=other;gene_synonym=IGK@']\n",
      "annotated\n",
      "['NC_060948.1', 'Gnomon', 'gene', '61149687', '61390131', '.', '+', '.', 'ID=gene-LOC124908987;Dbxref=GeneID:124908987;Name=LOC124908987;gbkey=Gene;gene=LOC124908987;gene_biotype=lncRNA']\n",
      "annotated\n",
      "['NC_060948.1', 'Gnomon', 'lnc_RNA', '61149687', '61390131', '.', '+', '.', 'ID=rna-XR_007093599.1;Parent=gene-LOC124908987;Dbxref=GeneID:124908987,Genbank:XR_007093599.1;Name=XR_007093599.1;gbkey=ncRNA;gene=LOC124908987;model_evidence=Supporting evidence includes similarity to: 100%25 coverage of the annotated genomic feature by RNAseq alignments%2C including 5 samples with support for all annotated introns;product=uncharacterized LOC124908987%2C transcript variant X1;transcript_id=XR_007093599.1']\n",
      "annotated\n",
      "['NC_060948.1', 'Gnomon', 'lnc_RNA', '61149687', '61390131', '.', '+', '.', 'ID=rna-XR_007093600.1;Parent=gene-LOC124908987;Dbxref=GeneID:124908987,Genbank:XR_007093600.1;Name=XR_007093600.1;gbkey=ncRNA;gene=LOC124908987;model_evidence=Supporting evidence includes similarity to: 100%25 coverage of the annotated genomic feature by RNAseq alignments%2C including 5 samples with support for all annotated introns;product=uncharacterized LOC124908987%2C transcript variant X2;transcript_id=XR_007093600.1']\n",
      "annotated\n",
      "['NC_060948.1', 'Gnomon', 'gene', '33538325', '34545422', '.', '-', '.', 'ID=gene-LOC124908781;Dbxref=GeneID:124908781;Name=LOC124908781;gbkey=Gene;gene=LOC124908781;gene_biotype=lncRNA']\n",
      "annotated\n",
      "['NC_060948.1', 'Gnomon', 'lnc_RNA', '33538325', '34545422', '.', '-', '.', 'ID=rna-XR_007092586.1;Parent=gene-LOC124908781;Dbxref=GeneID:124908781,Genbank:XR_007092586.1;Name=XR_007092586.1;gbkey=ncRNA;gene=LOC124908781;model_evidence=Supporting evidence includes similarity to: 100%25 coverage of the annotated genomic feature by RNAseq alignments%2C including 7 samples with support for all annotated introns;product=uncharacterized LOC124908781%2C transcript variant X1;transcript_id=XR_007092586.1']\n",
      "annotated\n",
      "['NC_060948.1', 'Gnomon', 'lnc_RNA', '33538325', '34545421', '.', '-', '.', 'ID=rna-XR_007092587.1;Parent=gene-LOC124908781;Dbxref=GeneID:124908781,Genbank:XR_007092587.1;Name=XR_007092587.1;gbkey=ncRNA;gene=LOC124908781;model_evidence=Supporting evidence includes similarity to: 100%25 coverage of the annotated genomic feature by RNAseq alignments%2C including 4 samples with support for all annotated introns;product=uncharacterized LOC124908781%2C transcript variant X2;transcript_id=XR_007092587.1']\n",
      "annotated\n",
      "['NC_060948.1', 'Gnomon', 'lnc_RNA', '33538327', '34545422', '.', '-', '.', 'ID=rna-XR_007092588.1;Parent=gene-LOC124908781;Dbxref=GeneID:124908781,Genbank:XR_007092588.1;Name=XR_007092588.1;gbkey=ncRNA;gene=LOC124908781;model_evidence=Supporting evidence includes similarity to: 100%25 coverage of the annotated genomic feature by RNAseq alignments%2C including 4 samples with support for all annotated introns;product=uncharacterized LOC124908781%2C transcript variant X3;transcript_id=XR_007092588.1']\n",
      "annotated\n",
      "['NC_060926.1', 'Curated Genomic', 'gene', '88866370', '90790947', '.', '+', '.', 'ID=gene-IGK;Dbxref=GeneID:50802,HGNC:HGNC:5715;Name=IGK;description=immunoglobulin kappa locus;gbkey=Gene;gene=IGK;gene_biotype=other;gene_synonym=IGK@']\n"
     ]
    }
   ],
   "source": [
    "### check each match in annotation\n",
    "annotated_uniqs = defaultdict(list)\n",
    "\n",
    "for trans, info in uniqs_info.items():\n",
    "    for match in info:\n",
    "        chm = match[1]\n",
    "        start = int(match[9])\n",
    "        stop = int(match[10])\n",
    "        for i in gff[chm]:\n",
    "            if i[3] == '1':\n",
    "                continue\n",
    "            if int(i[3]) < start and int(i[4]) > stop:\n",
    "                print('annotated')\n",
    "                anno_info = i[1:5] + [i[-1]]\n",
    "                annotated_uniqs[match[0]].append(match[:4] + match[7:11] + anno_info)\n",
    "                print(i)\n",
    "            elif int(i[3]) < start and (int(i[4]) < stop and int(i[4]) > start):\n",
    "                print('nested start')\n",
    "                print(i)\n",
    "            elif (int(i[3]) > start and int(i[3]) < stop) and int(i[4]) > stop:\n",
    "                print('nested stop')\n",
    "                print(i)"
   ]
  },
  {
   "cell_type": "code",
   "execution_count": 43,
   "id": "9d50e5b3",
   "metadata": {},
   "outputs": [],
   "source": [
    "annotated_uniqs_table = './annotated_uniqs.tsv'\n",
    "\n",
    "with open(annotated_uniqs_table, 'w') as fw:\n",
    "    fw.write('#query_seq_id\\ttarget_seq_id\\tchm_number\\tidentity\\tstart_query\\tstop_query\\tstart_target\\tstop_target\\tpredicted_with\\ttype\\tstart\\tstop\\tinfo\\n')\n",
    "    for k, v in annotated_uniqs.items():\n",
    "        for i in v:\n",
    "            to_write = \"\\t\".join(i)\n",
    "            fw.write(f'{to_write}\\n')"
   ]
  },
  {
   "cell_type": "code",
   "execution_count": 44,
   "id": "01fdd806",
   "metadata": {},
   "outputs": [
    {
     "data": {
      "text/plain": [
       "defaultdict(list,\n",
       "            {'1_SRR5295893': [['1_SRR5295893',\n",
       "               'NC_060926.1',\n",
       "               '2',\n",
       "               '0.589',\n",
       "               '322',\n",
       "               '110',\n",
       "               '89374484',\n",
       "               '89374696',\n",
       "               'Curated Genomic',\n",
       "               'gene',\n",
       "               '88866370',\n",
       "               '90790947',\n",
       "               'ID=gene-IGK;Dbxref=GeneID:50802,HGNC:HGNC:5715;Name=IGK;description=immunoglobulin kappa locus;gbkey=Gene;gene=IGK;gene_biotype=other;gene_synonym=IGK@']],\n",
       "             '2_SRR5295901_1': [['2_SRR5295901_1',\n",
       "               'NC_060948.1',\n",
       "               'Y',\n",
       "               '0.959',\n",
       "               '28',\n",
       "               '345',\n",
       "               '61338692',\n",
       "               '61339009',\n",
       "               'Gnomon',\n",
       "               'gene',\n",
       "               '61149687',\n",
       "               '61390131',\n",
       "               'ID=gene-LOC124908987;Dbxref=GeneID:124908987;Name=LOC124908987;gbkey=Gene;gene=LOC124908987;gene_biotype=lncRNA'],\n",
       "              ['2_SRR5295901_1',\n",
       "               'NC_060948.1',\n",
       "               'Y',\n",
       "               '0.959',\n",
       "               '28',\n",
       "               '345',\n",
       "               '61338692',\n",
       "               '61339009',\n",
       "               'Gnomon',\n",
       "               'lnc_RNA',\n",
       "               '61149687',\n",
       "               '61390131',\n",
       "               'ID=rna-XR_007093599.1;Parent=gene-LOC124908987;Dbxref=GeneID:124908987,Genbank:XR_007093599.1;Name=XR_007093599.1;gbkey=ncRNA;gene=LOC124908987;model_evidence=Supporting evidence includes similarity to: 100%25 coverage of the annotated genomic feature by RNAseq alignments%2C including 5 samples with support for all annotated introns;product=uncharacterized LOC124908987%2C transcript variant X1;transcript_id=XR_007093599.1'],\n",
       "              ['2_SRR5295901_1',\n",
       "               'NC_060948.1',\n",
       "               'Y',\n",
       "               '0.959',\n",
       "               '28',\n",
       "               '345',\n",
       "               '61338692',\n",
       "               '61339009',\n",
       "               'Gnomon',\n",
       "               'lnc_RNA',\n",
       "               '61149687',\n",
       "               '61390131',\n",
       "               'ID=rna-XR_007093600.1;Parent=gene-LOC124908987;Dbxref=GeneID:124908987,Genbank:XR_007093600.1;Name=XR_007093600.1;gbkey=ncRNA;gene=LOC124908987;model_evidence=Supporting evidence includes similarity to: 100%25 coverage of the annotated genomic feature by RNAseq alignments%2C including 5 samples with support for all annotated introns;product=uncharacterized LOC124908987%2C transcript variant X2;transcript_id=XR_007093600.1']],\n",
       "             '3_SRR5295901_2': [['3_SRR5295901_2',\n",
       "               'NC_060948.1',\n",
       "               'Y',\n",
       "               '0.421',\n",
       "               '24',\n",
       "               '344',\n",
       "               '33979195',\n",
       "               '33978839',\n",
       "               'Gnomon',\n",
       "               'gene',\n",
       "               '33538325',\n",
       "               '34545422',\n",
       "               'ID=gene-LOC124908781;Dbxref=GeneID:124908781;Name=LOC124908781;gbkey=Gene;gene=LOC124908781;gene_biotype=lncRNA'],\n",
       "              ['3_SRR5295901_2',\n",
       "               'NC_060948.1',\n",
       "               'Y',\n",
       "               '0.421',\n",
       "               '24',\n",
       "               '344',\n",
       "               '33979195',\n",
       "               '33978839',\n",
       "               'Gnomon',\n",
       "               'lnc_RNA',\n",
       "               '33538325',\n",
       "               '34545422',\n",
       "               'ID=rna-XR_007092586.1;Parent=gene-LOC124908781;Dbxref=GeneID:124908781,Genbank:XR_007092586.1;Name=XR_007092586.1;gbkey=ncRNA;gene=LOC124908781;model_evidence=Supporting evidence includes similarity to: 100%25 coverage of the annotated genomic feature by RNAseq alignments%2C including 7 samples with support for all annotated introns;product=uncharacterized LOC124908781%2C transcript variant X1;transcript_id=XR_007092586.1'],\n",
       "              ['3_SRR5295901_2',\n",
       "               'NC_060948.1',\n",
       "               'Y',\n",
       "               '0.421',\n",
       "               '24',\n",
       "               '344',\n",
       "               '33979195',\n",
       "               '33978839',\n",
       "               'Gnomon',\n",
       "               'lnc_RNA',\n",
       "               '33538325',\n",
       "               '34545421',\n",
       "               'ID=rna-XR_007092587.1;Parent=gene-LOC124908781;Dbxref=GeneID:124908781,Genbank:XR_007092587.1;Name=XR_007092587.1;gbkey=ncRNA;gene=LOC124908781;model_evidence=Supporting evidence includes similarity to: 100%25 coverage of the annotated genomic feature by RNAseq alignments%2C including 4 samples with support for all annotated introns;product=uncharacterized LOC124908781%2C transcript variant X2;transcript_id=XR_007092587.1'],\n",
       "              ['3_SRR5295901_2',\n",
       "               'NC_060948.1',\n",
       "               'Y',\n",
       "               '0.421',\n",
       "               '24',\n",
       "               '344',\n",
       "               '33979195',\n",
       "               '33978839',\n",
       "               'Gnomon',\n",
       "               'lnc_RNA',\n",
       "               '33538327',\n",
       "               '34545422',\n",
       "               'ID=rna-XR_007092588.1;Parent=gene-LOC124908781;Dbxref=GeneID:124908781,Genbank:XR_007092588.1;Name=XR_007092588.1;gbkey=ncRNA;gene=LOC124908781;model_evidence=Supporting evidence includes similarity to: 100%25 coverage of the annotated genomic feature by RNAseq alignments%2C including 4 samples with support for all annotated introns;product=uncharacterized LOC124908781%2C transcript variant X3;transcript_id=XR_007092588.1'],\n",
       "              ['3_SRR5295901_2',\n",
       "               'NC_060926.1',\n",
       "               '2',\n",
       "               '0.765',\n",
       "               '318',\n",
       "               '229',\n",
       "               '89367167',\n",
       "               '89367256',\n",
       "               'Curated Genomic',\n",
       "               'gene',\n",
       "               '88866370',\n",
       "               '90790947',\n",
       "               'ID=gene-IGK;Dbxref=GeneID:50802,HGNC:HGNC:5715;Name=IGK;description=immunoglobulin kappa locus;gbkey=Gene;gene=IGK;gene_biotype=other;gene_synonym=IGK@']]})"
      ]
     },
     "execution_count": 44,
     "metadata": {},
     "output_type": "execute_result"
    }
   ],
   "source": [
    "annotated_uniqs"
   ]
  },
  {
   "cell_type": "code",
   "execution_count": 2,
   "id": "d10c60e0",
   "metadata": {},
   "outputs": [
    {
     "ename": "NameError",
     "evalue": "name 'uniqs_info' is not defined",
     "output_type": "error",
     "traceback": [
      "\u001b[0;31m---------------------------------------------------------------------------\u001b[0m",
      "\u001b[0;31mNameError\u001b[0m                                 Traceback (most recent call last)",
      "\u001b[0;32m<ipython-input-2-be5b9552cf35>\u001b[0m in \u001b[0;36m<module>\u001b[0;34m\u001b[0m\n\u001b[0;32m----> 1\u001b[0;31m \u001b[0muniqs_info\u001b[0m\u001b[0;34m\u001b[0m\u001b[0;34m\u001b[0m\u001b[0m\n\u001b[0m",
      "\u001b[0;31mNameError\u001b[0m: name 'uniqs_info' is not defined"
     ]
    }
   ],
   "source": [
    "uniqs_info"
   ]
  },
  {
   "cell_type": "code",
   "execution_count": null,
   "id": "be2adce1",
   "metadata": {},
   "outputs": [],
   "source": []
  }
 ],
 "metadata": {
  "kernelspec": {
   "display_name": "Python 3",
   "language": "python",
   "name": "python3"
  },
  "language_info": {
   "codemirror_mode": {
    "name": "ipython",
    "version": 3
   },
   "file_extension": ".py",
   "mimetype": "text/x-python",
   "name": "python",
   "nbconvert_exporter": "python",
   "pygments_lexer": "ipython3",
   "version": "3.7.9"
  }
 },
 "nbformat": 4,
 "nbformat_minor": 5
}
