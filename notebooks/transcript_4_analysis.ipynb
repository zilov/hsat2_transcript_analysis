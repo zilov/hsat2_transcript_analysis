{
 "cells": [
  {
   "cell_type": "markdown",
   "id": "fcdcc7ee",
   "metadata": {},
   "source": [
    "### Задачи\n",
    "1. Выделить участок +-100,000 нуклеотидов до и после транскрипта\n",
    "2. Проверить какие гены лежат в аннотации в этом участке\n",
    "3. Предсказание промотеров с помощью - CNNPromoter_e, DeePromoter, PromID, Depicter\n",
    "4. Визуализировать участок на хромосоме (https://github.com/WenchaoLin/chrVis)"
   ]
  },
  {
   "cell_type": "code",
   "execution_count": 21,
   "id": "98432760",
   "metadata": {},
   "outputs": [],
   "source": [
    "## Выделяем все участки найденные в геноме\n",
    "\n",
    "\n",
    "top_mmseq_results= '../tables/transcripts_top_uniq_t2t.tsv'\n",
    "transript_4_matches = []\n",
    "\n",
    "with open(top_mmseq_results) as fh:\n",
    "    for line in fh:\n",
    "        line = line.strip().split('\\t')\n",
    "        if line[0].startswith('4'):\n",
    "            transript_4_matches.append(line)\n",
    "            \n",
    "            \n",
    "## функция читает фаста-файл и возвращает только сиквенс который находится под нужным хедером\n",
    "def fasta_read_by_header(path_to_fasta_file, header):\n",
    "    \"Returns dicttionary with header:sequence\"\n",
    "    was_header = False\n",
    "    with open(path_to_fasta_file) as fh:\n",
    "        for i, line in enumerate(fh):\n",
    "            line = line.strip()\n",
    "            if line.startswith(f\">{header}\"):\n",
    "                was_header = True\n",
    "                seq = []\n",
    "            elif line.startswith('>') and was_header:\n",
    "                return ''.join(seq)\n",
    "            elif was_header:\n",
    "                seq.append(line)\n",
    "            \n",
    "\n",
    "## выделяем все сиквенсы матчей 4 транскрипта += 10,000 нуклеотидов\n",
    "match_to_seq = {}\n",
    "for i in transript_4_matches:\n",
    "    header = i[1]\n",
    "    start = int(i[9]) - 1000\n",
    "    stop  = int(i[10]) + 1000\n",
    "    key = f\"trans_4_chr_{i[2]}_len_{i[4]}_{start}_{stop}\"\n",
    "    match_to_seq[key] = fasta_read_by_header(\n",
    "        '/home/dzilov/data_zilov/data/modal_genomes/human_t2t_CHM13v2_0/GCF_009914755.1_T2T-CHM13v2.0_genomic.fna',\n",
    "        header\n",
    "    )[start-1:stop]"
   ]
  },
  {
   "cell_type": "code",
   "execution_count": 23,
   "id": "14464c67",
   "metadata": {},
   "outputs": [],
   "source": [
    "### записываем в fasta \n",
    "file = '../data/transcript_4_1000bp.fasta'\n",
    "\n",
    "with open(file, 'w') as fw:\n",
    "    for key, value in match_to_seq.items():\n",
    "        line_to_write = f'>{key}\\n{value.upper()}\\n'\n",
    "        fw.write(line_to_write)"
   ]
  },
  {
   "cell_type": "markdown",
   "id": "4b08e0d3",
   "metadata": {},
   "source": [
    "### Установил и запустил depicter, он показывает лучший результат определения промотеров по данным статьи https://doi.org/10.1093/bib/bbab551\n",
    "1. mamba create -n depicter -c bioconda -c conda-forge -c defaults h5py=2.9.0 keras=2.2.4 numpy=1.16.5 pandas=0.25.1 scikit-learn=0.21.3 scipy=1.3.1 tensorflow=1.13.1\n",
    "2. conda activate depicter\n",
    "3. cd ~/data_zilov/soft\n",
    "4. git clone https://github.com/zhuyaner/Depicter.git\n",
    "5. python ~/data_zilov/soft/Depicter/Depicter_pred.py --input ../data/transcript_4_1000bp.fasta --output transript_4_promoters --species Human --seq_type full_length --type TATA+_TATA-\n",
    "\n",
    "Тул не работает, с ним все плохо, пытался переписать поломанные части но все тщетно"
   ]
  },
  {
   "cell_type": "markdown",
   "id": "adda968d",
   "metadata": {},
   "source": [
    "### Визуализация транскриптов на хромосомах"
   ]
  },
  {
   "cell_type": "code",
   "execution_count": 27,
   "id": "eeebca6d",
   "metadata": {},
   "outputs": [],
   "source": [
    "## считаем длины хромасом\n",
    "def fasta_reader_yield(path_to_fasta_file):\n",
    "    header = None\n",
    "    with open(path_to_fasta_file) as fh:\n",
    "        for i, line in enumerate(fh):\n",
    "            line = line.strip()\n",
    "            if line.startswith(\">\"):\n",
    "                if header:\n",
    "                    yield header,\"\".join(seq)\n",
    "                header = line[1:]\n",
    "                seq = []\n",
    "            else:\n",
    "                seq.append(line)\n",
    "        if header:\n",
    "            yield header,\"\".join(seq)\n",
    "\n",
    "chr_to_length = {}\n",
    "for i in fasta_reader_yield('/home/dzilov/data_zilov/data/modal_genomes/human_t2t_CHM13v2_0/GCF_009914755.1_T2T-CHM13v2.0_genomic.fna'):\n",
    "    chr_to_length[i[0].split()[0]] = len(i[1])"
   ]
  },
  {
   "cell_type": "code",
   "execution_count": 31,
   "id": "86e69772",
   "metadata": {},
   "outputs": [],
   "source": [
    "from collections import defaultdict\n",
    "\n",
    "refseq_to_chm_number = {}\n",
    "\n",
    "with open(\"../../chm_to_acc_numbers.tsv\") as fh:\n",
    "    for line in fh:\n",
    "        if line.startswith('#'):\n",
    "            continue\n",
    "        line = line.strip().split(\"\\t\")\n",
    "        refseq_to_chm_number[line[6]] = line[0]\n",
    "        \n",
    "#transcript\n",
    "\n",
    "uniqs = defaultdict(list)\n",
    "uniqs_info = defaultdict(list)\n",
    "\n",
    "## m8 == outftmt6 \n",
    "## query_seq_id => target_seq_id => chm_number => identity => length => mismatch => gaps => \n",
    "## ==> start_query => stop_query => start_target => stop_target => e_value => bit-score\n",
    "with open(\"../mmseq_search_results/result_t2t_transcript.m8\") as fh:\n",
    "    for line in fh:\n",
    "        line = line.strip().split(\"\\t\")\n",
    "        if line[1] not in uniqs[line[0]]:\n",
    "            uniqs[line[0]].append(line[1])\n",
    "            line = line[:2] + [refseq_to_chm_number[line[1]]] + line[2:]\n",
    "            uniqs_info[line[0]].append(line)"
   ]
  },
  {
   "cell_type": "code",
   "execution_count": 40,
   "id": "4d00ff3b",
   "metadata": {},
   "outputs": [],
   "source": [
    "### Создаем конфиг файл с длинами хромосом\n",
    "chr_config = '../chrViz_config/chr_config.txt'\n",
    "\n",
    "with open(chr_config, 'w') as fw:\n",
    "    for chm_acc, length in chr_to_length.items():\n",
    "        chm_n = refseq_to_chm_number[chm_acc]\n",
    "        line_to_write = f'chr{chm_n}\\tchr{chm_n}\\t{length}\\t#333300\\n'\n",
    "        fw.write(line_to_write)\n",
    "\n",
    "### Создаем конфиг файл с позициями транскриптов и их цветами на рисунке\n",
    "\n",
    "colors = {'1': '#bacac6', '2': '#00bc12', '3': '#f35336', '4': '#be002f'}\n",
    "\n",
    "trans_config = '../chrViz_config/trans_config.txt'\n",
    "\n",
    "with open(trans_config, 'w') as fw:\n",
    "    for match, infos in uniqs_info.items():\n",
    "        for info in infos:\n",
    "            chm_n = info[2]\n",
    "            trans_n = info[0][0][0]\n",
    "            start = info[-4]\n",
    "            stop = info[-3]\n",
    "            line_to_write = f'chr{chm_n}\\ttrans_{trans_n}\\t{start}\\t{stop}\\t{colors[trans_n]}\\n'\n",
    "            fw.write(line_to_write)"
   ]
  },
  {
   "cell_type": "code",
   "execution_count": null,
   "id": "2d0b5fb3",
   "metadata": {},
   "outputs": [],
   "source": []
  }
 ],
 "metadata": {
  "kernelspec": {
   "display_name": "Python 3",
   "language": "python",
   "name": "python3"
  },
  "language_info": {
   "codemirror_mode": {
    "name": "ipython",
    "version": 3
   },
   "file_extension": ".py",
   "mimetype": "text/x-python",
   "name": "python",
   "nbconvert_exporter": "python",
   "pygments_lexer": "ipython3",
   "version": "3.7.9"
  }
 },
 "nbformat": 4,
 "nbformat_minor": 5
}
